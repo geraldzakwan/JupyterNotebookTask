{
 "cells": [
  {
   "cell_type": "code",
   "execution_count": 2,
   "metadata": {
    "scrolled": false
   },
   "outputs": [
    {
     "name": "stdout",
     "output_type": "stream",
     "text": [
      "[[ 5.1  3.5  1.4  0.2]\n",
      " [ 4.9  3.   1.4  0.2]\n",
      " [ 4.7  3.2  1.3  0.2]\n",
      " [ 4.6  3.1  1.5  0.2]\n",
      " [ 5.   3.6  1.4  0.2]]\n",
      "[0 0 0 0 0]\n"
     ]
    }
   ],
   "source": [
    "# Melakukan import dataset standard iris dan memisahkan data dan target\n",
    "from sklearn import datasets\n",
    "iris_dataset = datasets.load_iris()\n",
    "X_iris = iris_dataset.data\n",
    "Y_iris = iris_dataset.target\n",
    "print(X_iris[0:5])\n",
    "print(Y_iris[0:5])"
   ]
  },
  {
   "cell_type": "code",
   "execution_count": 20,
   "metadata": {},
   "outputs": [
    {
     "name": "stdout",
     "output_type": "stream",
     "text": [
      "[[ 0.  0.  1.  0.  1.  0.  1.  0.]\n",
      " [ 0.  0.  1.  0.  1.  0.  1.  0.]\n",
      " [ 1.  0.  0.  0.  1.  0.  1.  0.]\n",
      " [ 0.  1.  0.  0.  0.  1.  1.  0.]\n",
      " [ 0.  1.  0.  1.  0.  0.  0.  1.]]\n",
      "['no', 'no', 'yes', 'yes', 'yes']\n"
     ]
    }
   ],
   "source": [
    "# Melakukan import dataset csv play tennis dan memisahkan data dan target\n",
    "import pandas\n",
    "ori_data_frame = pandas.read_csv('tennis.csv')\n",
    "\n",
    "# axis = 1 artinya mau drop column\n",
    "data_frame = ori_data_frame.drop('play', axis=1)\n",
    "data_frame = data_frame.select_dtypes(include=[object])\n",
    "# print(data_frame.columns)\n",
    "\n",
    "from sklearn import preprocessing\n",
    "le = preprocessing.LabelEncoder()\n",
    "df_2 = data_frame.apply(le.fit_transform)\n",
    "# print(df_2)\n",
    "\n",
    "one_hot_encoder = preprocessing.OneHotEncoder()\n",
    "one_hot_encoder.fit(df_2)\n",
    "one_hot_labels = one_hot_encoder.transform(df_2).toarray()\n",
    "\n",
    "X_tennis = one_hot_labels\n",
    "Y_tennis = []\n",
    "\n",
    "for row in ori_data_frame.index:\n",
    "    Y_tennis.append(ori_data_frame['play'][row])\n",
    "\n",
    "print(X_tennis[0:5])\n",
    "print(Y_tennis[0:5])"
   ]
  },
  {
   "cell_type": "code",
   "execution_count": 21,
   "metadata": {},
   "outputs": [
    {
     "name": "stdout",
     "output_type": "stream",
     "text": [
      "[0 0 0 0 0]\n",
      "['no' 'no' 'yes' 'no' 'no']\n"
     ]
    }
   ],
   "source": [
    "# Melakukan pembelajaran full training dengan DecisionTree\n",
    "from sklearn import tree\n",
    "clf_tree = tree.DecisionTreeClassifier()\n",
    "clf_tree = clf_tree.fit(X_iris, Y_iris)\n",
    "clf_tree_2 = tree.DecisionTreeClassifier()\n",
    "clf_tree_2 = clf_tree_2.fit(X_tennis, Y_tennis)\n",
    "# Menampilkan hasil prediksi terhadap 5 instance awal\n",
    "print(clf_tree.predict(X_iris[:5]))\n",
    "print(clf_tree_2.predict(X_tennis[:5]))"
   ]
  },
  {
   "cell_type": "code",
   "execution_count": 22,
   "metadata": {},
   "outputs": [],
   "source": [
    "# Menampilkan model pembelajaran tree\n",
    "data_feature_names = iris_dataset.feature_names\n",
    "data_feature_names_2 = ['outlook', 'temp', 'humidity']\n",
    "data_target_names = iris_dataset.target_names\n",
    "data_target_names_2 = ['no', 'yes']\n",
    "dot_model = tree.export_graphviz(clf_tree, feature_names = data_feature_names, class_names = data_target_names, out_file = None) \n",
    "dot_model_2 = tree.export_graphviz(clf_tree_2, class_names = data_target_names_2, out_file = None) \n",
    "\n",
    "# import graphviz\n",
    "# import os\n",
    "# os.environ[\"PATH\"] += os.pathsep + 'D:/Graphviz2.38/bin/'\n",
    "# tree_viz = graphviz.Source(dot_model) \n",
    "# tree_viz.render('tree_iris')\n",
    "# tree_viz_2 = graphviz.Source(dot_model_2) \n",
    "# tree_viz_2.render('tree_tennis')"
   ]
  },
  {
   "cell_type": "code",
   "execution_count": 23,
   "metadata": {},
   "outputs": [
    {
     "name": "stdout",
     "output_type": "stream",
     "text": [
      "[2 2 2 2 2]\n",
      "['no' 'no' 'yes' 'no' 'yes']\n"
     ]
    }
   ],
   "source": [
    "# Melakukan pembelajaran full training dengan MLP\n",
    "from sklearn.neural_network import MLPClassifier\n",
    "clf_mlp = MLPClassifier(solver='sgd', max_iter = 10000, alpha=1e-3, hidden_layer_sizes=(4,3))\n",
    "clf_mlp.fit(X_iris, Y_iris)\n",
    "clf_mlp_2 = MLPClassifier(solver='sgd', max_iter = 10000, alpha=1e-3, hidden_layer_sizes=(4,3))\n",
    "clf_mlp_2.fit(X_tennis, Y_tennis)\n",
    "# Menampilkan hasil prediksi terhadap 5 instance awal\n",
    "print(clf_mlp.predict(X_iris[:5]))\n",
    "print(clf_mlp_2.predict(X_tennis[:5]))"
   ]
  },
  {
   "cell_type": "code",
   "execution_count": 24,
   "metadata": {},
   "outputs": [
    {
     "name": "stdout",
     "output_type": "stream",
     "text": [
      "Intercepts:\n",
      "[ 0.41592897  0.55196247  0.83239129 -0.71110706]\n",
      "Weights:\n",
      "[[-0.1382848   0.68229231  0.24909409  0.32411711]\n",
      " [-0.518432    0.51740484 -0.61110884  0.41252773]\n",
      " [ 0.65464656  0.57507848  0.63393694  0.65820465]\n",
      " [-0.50000104 -0.48106133 -0.76205074  0.1092443 ]]\n",
      "Intercepts:\n",
      "[ 0.26277633  0.10340675  0.08663686]\n",
      "Weights:\n",
      "[[-0.81650394  0.5212896   0.79327185]\n",
      " [-0.38014156 -0.51016825  0.91078747]\n",
      " [ 0.19969301 -0.23068556 -0.50470873]\n",
      " [-0.01303121 -0.85660111  0.4508253 ]]\n",
      "Intercepts:\n",
      "[ 0.54715402  0.01619956  0.63516746]\n",
      "Weights:\n",
      "[[-0.60147417  0.75742537 -0.40320871]\n",
      " [ 0.61124912 -0.08296257  0.81689099]\n",
      " [ 0.29274183  0.35375793  0.33164474]]\n"
     ]
    }
   ],
   "source": [
    "# Menampilkan model pembelajaran MLP untuk iris\n",
    "for i in range(0, len(clf_mlp.coefs_)):\n",
    "    print('Intercepts:')\n",
    "    print(clf_mlp.intercepts_[i])\n",
    "    print('Weights:')\n",
    "    print(clf_mlp.coefs_[i])"
   ]
  },
  {
   "cell_type": "code",
   "execution_count": 25,
   "metadata": {},
   "outputs": [
    {
     "name": "stdout",
     "output_type": "stream",
     "text": [
      "Intercepts:\n",
      "[-0.28598022  0.61307971 -0.5275994  -0.34328841]\n",
      "Weights:\n",
      "[[-0.53239992  1.02204545 -0.31435104  0.06451635]\n",
      " [-0.66902833 -0.62864548 -0.30967686  0.57419476]\n",
      " [ 0.24224535 -0.78062875  0.03141856  0.49717489]\n",
      " [ 0.7718902   0.05528242  0.61012204 -0.36995889]\n",
      " [ 0.1033249   0.01994762  0.11793707 -0.32557636]\n",
      " [ 0.54337935  0.05912507  0.48353137  0.85748106]\n",
      " [-0.40296526  0.14707378  0.01263783 -0.35082323]\n",
      " [-0.23042038  1.02211356  0.22715819  0.80059517]]\n",
      "Intercepts:\n",
      "[ 0.19515131 -0.84261841 -0.11632816]\n",
      "Weights:\n",
      "[[ 0.5406129  -0.70663917 -0.65671973]\n",
      " [ 1.62490651 -0.06819179 -0.28142461]\n",
      " [ 0.15620744  0.09603523 -0.68941385]\n",
      " [-0.25790016  1.38302679 -0.81220467]]\n",
      "Intercepts:\n",
      "[-0.93811645]\n",
      "Weights:\n",
      "[[ 1.0860389 ]\n",
      " [ 1.10476732]\n",
      " [ 0.72081298]]\n"
     ]
    }
   ],
   "source": [
    "# Menampilkan model pembelajaran MLP untuk tennis\n",
    "for i in range(0, len(clf_mlp_2.coefs_)):\n",
    "    print('Intercepts:')\n",
    "    print(clf_mlp_2.intercepts_[i])\n",
    "    print('Weights:')\n",
    "    print(clf_mlp_2.coefs_[i])"
   ]
  },
  {
   "cell_type": "code",
   "execution_count": 26,
   "metadata": {},
   "outputs": [],
   "source": [
    "# Melakukan import dan export model\n",
    "from sklearn.externals import joblib\n",
    "def save_model(model, filename):\n",
    "    joblib.dump(model, filename)\n",
    "    \n",
    "def load_model(filename):\n",
    "    clf = joblib.load(filename)\n",
    "    return clf"
   ]
  },
  {
   "cell_type": "code",
   "execution_count": 28,
   "metadata": {},
   "outputs": [
    {
     "name": "stdout",
     "output_type": "stream",
     "text": [
      "[2 2 2 2 2]\n",
      "[0 0 0 0 0]\n",
      "['no' 'no' 'yes' 'no' 'yes']\n",
      "['no' 'no' 'yes' 'no' 'no']\n"
     ]
    }
   ],
   "source": [
    "# Meng-export full training MLP dan DTree\n",
    "save_model(clf_tree, \"full_training_Tree_Iris.model\")\n",
    "save_model(clf_mlp, \"full_training_MLP_Iris.model\")\n",
    "save_model(clf_tree_2, \"full_training_Tree_Tennis.model\")\n",
    "save_model(clf_mlp_2, \"full_training_MLP_Tennis.model\")\n",
    "\n",
    "# Me-load full training MLP dan DTree\n",
    "clf_mlp = load_model(\"full_training_MLP_Iris.model\")\n",
    "clf_tree = load_model(\"full_training_Tree_Iris.model\")\n",
    "clf_mlp_2 = load_model(\"full_training_MLP_Tennis.model\")\n",
    "clf_tree_2 = load_model(\"full_training_Tree_Tennis.model\")\n",
    "\n",
    "# Tes apakah berhasil load dengan melakukan prediksi\n",
    "print(clf_mlp.predict(X_iris[:5]))\n",
    "print(clf_tree.predict(X_iris[:5]))\n",
    "print(clf_mlp_2.predict(X_tennis[:5]))\n",
    "print(clf_tree_2.predict(X_tennis[:5]))"
   ]
  },
  {
   "cell_type": "code",
   "execution_count": 28,
   "metadata": {},
   "outputs": [
    {
     "name": "stdout",
     "output_type": "stream",
     "text": [
      "[2 1 2 2 2 1 0 1 1 2 0 2 2 2 1]\n",
      "\n",
      "Accuracy : \n",
      "0.933333333333\n",
      "\n",
      "Confusion Matrix :\n",
      "[[2 0 0]\n",
      " [0 4 0]\n",
      " [0 1 8]]\n",
      "\n",
      "[2 2 2 2 2 1 0 1 1 2 0 2 2 2 1]\n",
      "\n",
      "Accuracy : \n",
      "1.0\n",
      "\n",
      "Confusion Matrix :\n",
      "[[2 0 0]\n",
      " [0 4 0]\n",
      " [0 0 9]]\n",
      "\n"
     ]
    }
   ],
   "source": [
    "#C ANN + Decision Tree Split test\n",
    "from sklearn.model_selection import train_test_split\n",
    "from sklearn.metrics import accuracy_score, precision_score, confusion_matrix\n",
    "\n",
    "#Pisah data menjadi train dan test\n",
    "irisTrainX, irisTestX, irisTrainY, irisTestY =  train_test_split(X_iris, Y_iris, test_size=0.1)\n",
    "\n",
    "#Make Classifier\n",
    "decisionTree = tree.DecisionTreeClassifier()\n",
    "multiLayerANN = MLPClassifier(solver = \"lbfgs\")\n",
    "decisionTree.fit(irisTrainX, irisTrainY)\n",
    "multiLayerANN.fit(irisTrainX, irisTrainY)\n",
    "\n",
    "treePredict = decisionTree.predict(irisTestX)\n",
    "annPredict = multiLayerANN.predict(irisTestX)\n",
    "\n",
    "print(treePredict)\n",
    "treeAccuracy = accuracy_score(irisTestY, treePredict)\n",
    "treeMatrix = confusion_matrix(irisTestY, treePredict)\n",
    "print()\n",
    "print(\"Accuracy : \") \n",
    "print(treeAccuracy)\n",
    "print()\n",
    "print(\"Confusion Matrix :\")\n",
    "print(treeMatrix)\n",
    "print()\n",
    "\n",
    "print(annPredict)\n",
    "annAccuracy = accuracy_score(irisTestY, annPredict)\n",
    "annMatrix = confusion_matrix(irisTestY, annPredict)\n",
    "print()\n",
    "print(\"Accuracy : \") \n",
    "print(annAccuracy)\n",
    "print()\n",
    "print(\"Confusion Matrix :\")\n",
    "print(annMatrix)\n",
    "print()\n",
    "\n",
    "\n"
   ]
  },
  {
   "cell_type": "code",
   "execution_count": 30,
   "metadata": {},
   "outputs": [
    {
     "name": "stdout",
     "output_type": "stream",
     "text": [
      "\n",
      "Tree Score :\n",
      "[ 1.          0.93333333  1.          0.93333333  0.93333333  0.86666667\n",
      "  0.93333333  1.          1.          1.        ]\n",
      "Accuracy: 0.96 (+/- 0.09)\n",
      "\n",
      "ANN Score :\n",
      "[ 1.          0.93333333  1.          1.          0.93333333  1.\n",
      "  0.86666667  1.          1.          1.        ]\n",
      "Accuracy: 0.97 (+/- 0.09)\n"
     ]
    }
   ],
   "source": [
    "#D 10-fold Cross validation for decision tree and ANN\n",
    "from sklearn.model_selection import cross_val_score\n",
    "decisionTree = tree.DecisionTreeClassifier()\n",
    "multiLayerANN = MLPClassifier(solver = \"lbfgs\")\n",
    "\n",
    "treeCrossVal = cross_val_score(decisionTree, X_iris, Y_iris, cv=10)\n",
    "print(\"\\nTree Score :\")\n",
    "print(treeCrossVal)\n",
    "print(\"Accuracy: %0.2f (+/- %0.2f)\" % (treeCrossVal.mean(), treeCrossVal.std() * 2))\n",
    "annCrossVal = cross_val_score(multiLayerANN, X_iris, Y_iris, cv=10)\n",
    "print(\"\\nANN Score :\")\n",
    "print(annCrossVal)\n",
    "print(\"Accuracy: %0.2f (+/- %0.2f)\" % (annCrossVal.mean(), annCrossVal.std() * 2))\n",
    "\n"
   ]
  },
  {
   "cell_type": "code",
   "execution_count": null,
   "metadata": {},
   "outputs": [],
   "source": [
    "#G Create new instances"
   ]
  }
 ],
 "metadata": {
  "kernelspec": {
   "display_name": "Python 3",
   "language": "python",
   "name": "python3"
  },
  "language_info": {
   "codemirror_mode": {
    "name": "ipython",
    "version": 3
   },
   "file_extension": ".py",
   "mimetype": "text/x-python",
   "name": "python",
   "nbconvert_exporter": "python",
   "pygments_lexer": "ipython3",
   "version": "3.5.2"
  }
 },
 "nbformat": 4,
 "nbformat_minor": 2
}
