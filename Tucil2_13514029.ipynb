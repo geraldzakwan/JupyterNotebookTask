{
 "cells": [
  {
   "cell_type": "markdown",
   "metadata": {},
   "source": [
    "# IF4071 Pembelajaran Mesin\n",
    "## Tugas Kecil II: Eksplorasi `scikit-learn` pada Jupyter Notebook\n",
    "\n",
    "Anggota kelompok:  \n",
    "13514029 - Muhammad Farhan Majid  \n",
    "13514065 - Geraldi Dzakwan  \n",
    "13514095 - Muhammad Az-zahid Adhitya Silp  "
   ]
  },
  {
   "cell_type": "markdown",
   "metadata": {},
   "source": [
    "### a. Membaca dataset standar iris dan dataset play-tennis"
   ]
  },
  {
   "cell_type": "code",
   "execution_count": 1,
   "metadata": {
    "collapsed": false,
    "scrolled": false
   },
   "outputs": [
    {
     "name": "stdout",
     "output_type": "stream",
     "text": [
      "[[ 5.1  3.5  1.4  0.2]\n",
      " [ 4.9  3.   1.4  0.2]\n",
      " [ 4.7  3.2  1.3  0.2]\n",
      " [ 4.6  3.1  1.5  0.2]\n",
      " [ 5.   3.6  1.4  0.2]]\n",
      "[0 0 0 0 0]\n"
     ]
    }
   ],
   "source": [
    "# Melakukan import dataset standard iris dan memisahkan data dan target\n",
    "from sklearn import datasets\n",
    "iris_dataset = datasets.load_iris()\n",
    "X_iris = iris_dataset.data\n",
    "Y_iris = iris_dataset.target\n",
    "print(X_iris[0:5])\n",
    "print(Y_iris[0:5])"
   ]
  },
  {
   "cell_type": "code",
   "execution_count": 2,
   "metadata": {
    "collapsed": false
   },
   "outputs": [
    {
     "name": "stdout",
     "output_type": "stream",
     "text": [
      "[[ 0.  0.  1.  0.  1.  0.  1.  0.]\n",
      " [ 0.  0.  1.  0.  1.  0.  1.  0.]\n",
      " [ 1.  0.  0.  0.  1.  0.  1.  0.]\n",
      " [ 0.  1.  0.  0.  0.  1.  1.  0.]\n",
      " [ 0.  1.  0.  1.  0.  0.  0.  1.]]\n",
      "['no', 'no', 'yes', 'yes', 'yes']\n"
     ]
    }
   ],
   "source": [
    "# Melakukan import dataset csv play tennis dan memisahkan data dan target\n",
    "import pandas\n",
    "ori_data_frame = pandas.read_csv('tennis.csv')\n",
    "\n",
    "# axis = 1 artinya mau drop column\n",
    "data_frame = ori_data_frame.drop('play', axis=1)\n",
    "data_frame = data_frame.select_dtypes(include=[object])\n",
    "# print(data_frame.columns)\n",
    "\n",
    "from sklearn import preprocessing\n",
    "le = preprocessing.LabelEncoder()\n",
    "df_2 = data_frame.apply(le.fit_transform)\n",
    "# print(df_2)\n",
    "\n",
    "one_hot_encoder = preprocessing.OneHotEncoder()\n",
    "one_hot_encoder.fit(df_2)\n",
    "one_hot_labels = one_hot_encoder.transform(df_2).toarray()\n",
    "\n",
    "X_tennis = one_hot_labels\n",
    "Y_tennis = []\n",
    "\n",
    "for row in ori_data_frame.index:\n",
    "    Y_tennis.append(ori_data_frame['play'][row])\n",
    "\n",
    "print(X_tennis[0:5])\n",
    "print(Y_tennis[0:5])"
   ]
  },
  {
   "cell_type": "markdown",
   "metadata": {},
   "source": [
    "### b. Melakukan pembelajaran DecisionTree dan Artificial Neural Network untuk dataset iris dengan skema full-training dan menampilkan modelnya"
   ]
  },
  {
   "cell_type": "code",
   "execution_count": 3,
   "metadata": {
    "collapsed": false
   },
   "outputs": [
    {
     "name": "stdout",
     "output_type": "stream",
     "text": [
      "[0 0 0 0 0]\n",
      "['no' 'no' 'yes' 'no' 'no']\n"
     ]
    }
   ],
   "source": [
    "# Melakukan pembelajaran full training dengan DecisionTree\n",
    "from sklearn import tree\n",
    "clf_tree = tree.DecisionTreeClassifier()\n",
    "clf_tree = clf_tree.fit(X_iris, Y_iris)\n",
    "clf_tree_2 = tree.DecisionTreeClassifier()\n",
    "clf_tree_2 = clf_tree_2.fit(X_tennis, Y_tennis)\n",
    "# Menampilkan hasil prediksi terhadap 5 instance awal\n",
    "print(clf_tree.predict(X_iris[:5]))\n",
    "print(clf_tree_2.predict(X_tennis[:5]))"
   ]
  },
  {
   "cell_type": "code",
   "execution_count": 4,
   "metadata": {
    "collapsed": true
   },
   "outputs": [],
   "source": [
    "# Menampilkan model pembelajaran tree\n",
    "data_feature_names = iris_dataset.feature_names\n",
    "data_feature_names_2 = ['outlook', 'temp', 'humidity']\n",
    "data_target_names = iris_dataset.target_names\n",
    "data_target_names_2 = ['no', 'yes']\n",
    "dot_model = tree.export_graphviz(clf_tree, feature_names = data_feature_names, class_names = data_target_names, out_file = None) \n",
    "dot_model_2 = tree.export_graphviz(clf_tree_2, class_names = data_target_names_2, out_file = None) \n",
    "\n",
    "# import graphviz\n",
    "# import os\n",
    "# os.environ[\"PATH\"] += os.pathsep + 'D:/Graphviz2.38/bin/'\n",
    "# tree_viz = graphviz.Source(dot_model) \n",
    "# tree_viz.render('tree_iris')\n",
    "# tree_viz_2 = graphviz.Source(dot_model_2) \n",
    "# tree_viz_2.render('tree_tennis')"
   ]
  },
  {
   "cell_type": "code",
   "execution_count": 5,
   "metadata": {
    "collapsed": false
   },
   "outputs": [
    {
     "name": "stdout",
     "output_type": "stream",
     "text": [
      "[0 0 0 0 0]\n",
      "['no' 'no' 'yes' 'yes' 'yes']\n"
     ]
    }
   ],
   "source": [
    "# Melakukan pembelajaran full training dengan MLP\n",
    "from sklearn.neural_network import MLPClassifier\n",
    "clf_mlp = MLPClassifier(solver='sgd', max_iter = 10000, alpha=1e-3, hidden_layer_sizes=(4,3))\n",
    "clf_mlp.fit(X_iris, Y_iris)\n",
    "clf_mlp_2 = MLPClassifier(solver='sgd', max_iter = 10000, alpha=1e-3, hidden_layer_sizes=(4,3))\n",
    "clf_mlp_2.fit(X_tennis, Y_tennis)\n",
    "# Menampilkan hasil prediksi terhadap 5 instance awal\n",
    "print(clf_mlp.predict(X_iris[:5]))\n",
    "print(clf_mlp_2.predict(X_tennis[:5]))"
   ]
  },
  {
   "cell_type": "code",
   "execution_count": 6,
   "metadata": {
    "collapsed": false
   },
   "outputs": [
    {
     "name": "stdout",
     "output_type": "stream",
     "text": [
      "Intercepts:\n",
      "[-0.8215111   0.03792671  0.47433131 -0.69883624]\n",
      "Weights:\n",
      "[[ 0.25137212 -0.30135532 -0.26452735 -0.17782126]\n",
      " [-0.1899402  -0.91585396 -0.44606858 -0.30244821]\n",
      " [-0.48244183  1.28647226 -0.05637523 -0.17090676]\n",
      " [ 0.7645969   0.67910903  0.05917722  0.03782169]]\n",
      "Intercepts:\n",
      "[-0.6777617   2.09574508 -1.50209404]\n",
      "Weights:\n",
      "[[ 0.21762866 -0.77781707  0.45708547]\n",
      " [-0.51269409 -1.36633105  0.76748433]\n",
      " [ 0.79056389  0.81932707  0.90228188]\n",
      " [ 0.09646805  0.71168332  0.63517501]]\n",
      "Intercepts:\n",
      "[-1.78927038  1.57740129 -0.02923297]\n",
      "Weights:\n",
      "[[ 0.92091791 -0.61390425 -0.16100131]\n",
      " [ 2.16017693 -1.31642236 -1.13334647]\n",
      " [-0.32900895 -1.65739827  0.93188463]]\n"
     ]
    }
   ],
   "source": [
    "# Menampilkan model pembelajaran MLP untuk iris\n",
    "for i in range(0, len(clf_mlp.coefs_)):\n",
    "    print('Intercepts:')\n",
    "    print(clf_mlp.intercepts_[i])\n",
    "    print('Weights:')\n",
    "    print(clf_mlp.coefs_[i])"
   ]
  },
  {
   "cell_type": "code",
   "execution_count": 7,
   "metadata": {
    "collapsed": false
   },
   "outputs": [
    {
     "name": "stdout",
     "output_type": "stream",
     "text": [
      "Intercepts:\n",
      "[-0.00433307  0.43120452  0.00663104  0.54045617]\n",
      "Weights:\n",
      "[[ 0.01406858 -0.17919892 -0.20542666 -0.01631816]\n",
      " [-0.04060335  0.31644185 -0.11456938  0.29369877]\n",
      " [-0.53769996 -0.32231686  1.07681814  0.00771278]\n",
      " [-0.33570573 -0.3262576  -0.29045649  0.40435762]\n",
      " [-0.61066012 -0.52758032 -0.06663093  0.11748347]\n",
      " [ 0.13131685 -0.64360147 -0.28217698 -0.12931753]\n",
      " [-0.65063503 -0.6943565   0.31953696 -0.70492428]\n",
      " [ 0.23228869 -0.64656024 -0.80122838 -0.47170666]]\n",
      "Intercepts:\n",
      "[ 1.2271369   0.12851237  0.19130892]\n",
      "Weights:\n",
      "[[-0.14095791 -0.04963761 -0.74097762]\n",
      " [-0.53756928 -0.77824767  0.87391964]\n",
      " [-0.54993434  0.7699951   0.99294528]\n",
      " [-0.08687547 -0.59716092  0.19227537]]\n",
      "Intercepts:\n",
      "[-0.31272088]\n",
      "Weights:\n",
      "[[ 1.62880408]\n",
      " [-1.15188294]\n",
      " [-1.11877208]]\n"
     ]
    }
   ],
   "source": [
    "# Menampilkan model pembelajaran MLP untuk tennis\n",
    "for i in range(0, len(clf_mlp_2.coefs_)):\n",
    "    print('Intercepts:')\n",
    "    print(clf_mlp_2.intercepts_[i])\n",
    "    print('Weights:')\n",
    "    print(clf_mlp_2.coefs_[i])"
   ]
  },
  {
   "cell_type": "markdown",
   "metadata": {},
   "source": [
    "### c. Melakukan pembelajaran DecisionTree dan ANN untuk dataset iris dengan skema split train 90% dan test 10% dan menampilkan kinerja serta confusion matrixnya"
   ]
  },
  {
   "cell_type": "code",
   "execution_count": 8,
   "metadata": {
    "collapsed": false
   },
   "outputs": [
    {
     "name": "stdout",
     "output_type": "stream",
     "text": [
      "[1 0 0 1 0 2 0 2 0 2 0 2 0 1 1]\n",
      "()\n",
      "Accuracy : \n",
      "0.933333333333\n",
      "()\n",
      "Confusion Matrix :\n",
      "[[7 0 0]\n",
      " [0 4 1]\n",
      " [0 0 3]]\n",
      "()\n",
      "[1 0 0 1 0 2 0 1 0 2 0 2 0 1 1]\n",
      "()\n",
      "Accuracy : \n",
      "1.0\n",
      "()\n",
      "Confusion Matrix :\n",
      "[[7 0 0]\n",
      " [0 5 0]\n",
      " [0 0 3]]\n",
      "()\n"
     ]
    }
   ],
   "source": [
    "#C ANN + Decision Tree Split test\n",
    "from sklearn.model_selection import train_test_split\n",
    "from sklearn.metrics import accuracy_score, precision_score, confusion_matrix\n",
    "\n",
    "#Pisah data menjadi train dan test\n",
    "irisTrainX, irisTestX, irisTrainY, irisTestY =  train_test_split(X_iris, Y_iris, test_size=0.1, train_size=0.9)\n",
    "\n",
    "#Make Classifier\n",
    "decisionTree = tree.DecisionTreeClassifier()\n",
    "multiLayerANN = MLPClassifier(solver = \"lbfgs\")\n",
    "decisionTree.fit(irisTrainX, irisTrainY)\n",
    "multiLayerANN.fit(irisTrainX, irisTrainY)\n",
    "\n",
    "treePredict = decisionTree.predict(irisTestX)\n",
    "annPredict = multiLayerANN.predict(irisTestX)\n",
    "\n",
    "print(treePredict)\n",
    "treeAccuracy = accuracy_score(irisTestY, treePredict)\n",
    "treeMatrix = confusion_matrix(irisTestY, treePredict)\n",
    "print()\n",
    "print(\"Accuracy : \") \n",
    "print(treeAccuracy)\n",
    "print()\n",
    "print(\"Confusion Matrix :\")\n",
    "print(treeMatrix)\n",
    "print()\n",
    "\n",
    "print(annPredict)\n",
    "annAccuracy = accuracy_score(irisTestY, annPredict)\n",
    "annMatrix = confusion_matrix(irisTestY, annPredict)\n",
    "print()\n",
    "print(\"Accuracy : \") \n",
    "print(annAccuracy)\n",
    "print()\n",
    "print(\"Confusion Matrix :\")\n",
    "print(annMatrix)\n",
    "print()\n",
    "\n",
    "\n"
   ]
  },
  {
   "cell_type": "markdown",
   "metadata": {},
   "source": [
    "### d. Melakukan pembelajaran DecisionTree dan ANN untuk dataset iris dengan skema 10-fold cross validation dan menampilkan kinerjanya"
   ]
  },
  {
   "cell_type": "code",
   "execution_count": 9,
   "metadata": {
    "collapsed": false
   },
   "outputs": [
    {
     "name": "stdout",
     "output_type": "stream",
     "text": [
      "\n",
      "Tree Score :\n",
      "[ 1.          0.93333333  1.          0.93333333  0.93333333  0.86666667\n",
      "  0.93333333  1.          1.          1.        ]\n",
      "Accuracy: 0.96 (+/- 0.09)\n",
      "\n",
      "ANN Score :\n",
      "[ 1.          0.93333333  1.          1.          0.93333333  1.\n",
      "  0.86666667  1.          1.          1.        ]\n",
      "Accuracy: 0.97 (+/- 0.09)\n"
     ]
    }
   ],
   "source": [
    "#D 10-fold Cross validation for decision tree and ANN\n",
    "from sklearn.model_selection import cross_val_score\n",
    "decisionTree2 = tree.DecisionTreeClassifier()\n",
    "multiLayerANN2 = MLPClassifier(solver = \"lbfgs\")\n",
    "\n",
    "treeCrossVal = cross_val_score(decisionTree2, X_iris, Y_iris, cv=10)\n",
    "print(\"\\nTree Score :\")\n",
    "print(treeCrossVal)\n",
    "print(\"Accuracy: %0.2f (+/- %0.2f)\" % (treeCrossVal.mean(), treeCrossVal.std() * 2))\n",
    "annCrossVal = cross_val_score(multiLayerANN2, X_iris, Y_iris, cv=10)\n",
    "print(\"\\nANN Score :\")\n",
    "print(annCrossVal)\n",
    "print(\"Accuracy: %0.2f (+/- %0.2f)\" % (annCrossVal.mean(), annCrossVal.std() * 2))\n",
    "\n"
   ]
  },
  {
   "cell_type": "markdown",
   "metadata": {},
   "source": [
    "### e. Menyimpan (save) model/hipotesis hasil pembelajaran ke sebuah file eksternal\n",
    "dan \n",
    "### f. Membaca (read) model/hipotesis dari file eksternal"
   ]
  },
  {
   "cell_type": "code",
   "execution_count": 10,
   "metadata": {
    "collapsed": true
   },
   "outputs": [],
   "source": [
    "# Melakukan import dan export model\n",
    "from sklearn.externals import joblib\n",
    "def save_model(model, filename):\n",
    "    joblib.dump(model, filename)\n",
    "    \n",
    "def load_model(filename):\n",
    "    clf = joblib.load(filename)\n",
    "    return clf"
   ]
  },
  {
   "cell_type": "code",
   "execution_count": 11,
   "metadata": {
    "collapsed": false
   },
   "outputs": [
    {
     "name": "stdout",
     "output_type": "stream",
     "text": [
      "[0 0 0 0 0]\n",
      "[0 0 0 0 0]\n",
      "['no' 'no' 'yes' 'yes' 'yes']\n",
      "['no' 'no' 'yes' 'no' 'no']\n"
     ]
    }
   ],
   "source": [
    "# Meng-export full training MLP dan DTree\n",
    "save_model(clf_tree, \"full_training_Tree_Iris.model\")\n",
    "save_model(clf_mlp, \"full_training_MLP_Iris.model\")\n",
    "save_model(clf_tree_2, \"full_training_Tree_Tennis.model\")\n",
    "save_model(clf_mlp_2, \"full_training_MLP_Tennis.model\")\n",
    "\n",
    "# Me-load full training MLP dan DTree\n",
    "clf_mlp = load_model(\"full_training_MLP_Iris.model\")\n",
    "clf_tree = load_model(\"full_training_Tree_Iris.model\")\n",
    "clf_mlp_2 = load_model(\"full_training_MLP_Tennis.model\")\n",
    "clf_tree_2 = load_model(\"full_training_Tree_Tennis.model\")\n",
    "\n",
    "# Tes apakah berhasil load dengan melakukan prediksi\n",
    "print(clf_mlp.predict(X_iris[:5]))\n",
    "print(clf_tree.predict(X_iris[:5]))\n",
    "print(clf_mlp_2.predict(X_tennis[:5]))\n",
    "print(clf_tree_2.predict(X_tennis[:5]))"
   ]
  },
  {
   "cell_type": "markdown",
   "metadata": {},
   "source": [
    "### g. Membuat instance baru dengan memberi nilai untuk setiap atribut"
   ]
  },
  {
   "cell_type": "code",
   "execution_count": 12,
   "metadata": {
    "collapsed": false
   },
   "outputs": [
    {
     "name": "stdout",
     "output_type": "stream",
     "text": [
      "('Input attributes with', dtype('float64'), ' type')\n",
      "2\n",
      "2\n",
      "2\n",
      "2\n",
      "('Input attributes with', dtype('int32'), ' type')\n",
      "1\n",
      "('\\nX = ', array([ 2.,  2.,  2.,  2.]))\n",
      "('Y = ', array(1))\n"
     ]
    }
   ],
   "source": [
    "#G Create new instances\n",
    "from sklearn import datasets\n",
    "import numpy as np\n",
    "\n",
    "iris_dataset = datasets.load_iris()\n",
    "X_iris = iris_dataset.data\n",
    "Y_iris = iris_dataset.target\n",
    "\n",
    "X = []\n",
    "print(\"Input attributes with\", X_iris.dtype, \" type\") \n",
    "for i in range(0, len(X_iris[0])):\n",
    "    inp = input()\n",
    "    X.append(inp)\n",
    "\n",
    "X = np.array(X, dtype=X_iris.dtype)\n",
    "print(\"Input attributes with\", Y_iris.dtype, \" type\") \n",
    "Y = np.array(input(), dtype=Y_iris.dtype)\n",
    "\n",
    "print(\"\\nX = \", X)\n",
    "print(\"Y = \", Y)"
   ]
  },
  {
   "cell_type": "markdown",
   "metadata": {},
   "source": [
    "### h. Melakukan klasifikasi dengan memanfaatkan model/hipotesis DecisionTree, and ANN pada instance pada g."
   ]
  },
  {
   "cell_type": "code",
   "execution_count": 13,
   "metadata": {
    "collapsed": false
   },
   "outputs": [
    {
     "name": "stdout",
     "output_type": "stream",
     "text": [
      "Prediction DT: 0 (setosa)\n",
      "Prediction ANN: 1 (versicolor)\n"
     ]
    }
   ],
   "source": [
    "# DecisionTree model\n",
    "X = X.reshape(1, -1) # reshape for single sample\n",
    "print \"Prediction DT: %s (%s)\" % (decisionTree.predict(X)[0], iris_dataset.target_names[decisionTree.predict(X)[0]])\n",
    "\n",
    "# ANN model\n",
    "print \"Prediction ANN: %s (%s)\" % (multiLayerANN.predict(X)[0], iris_dataset.target_names[multiLayerANN.predict(X)[0]])"
   ]
  },
  {
   "cell_type": "markdown",
   "metadata": {},
   "source": [
    "### i. Melakukan analisis fitur dengan visualisasi hubungan setiap fitur dengan kelas. Gunakanlah `seaborn`"
   ]
  },
  {
   "cell_type": "code",
   "execution_count": 14,
   "metadata": {
    "collapsed": false
   },
   "outputs": [
    {
     "data": {
      "text/plain": [
       "<seaborn.axisgrid.PairGrid at 0xa99efd0>"
      ]
     },
     "execution_count": 14,
     "metadata": {},
     "output_type": "execute_result"
    },
    {
     "data": {
      "image/png": "[encoded data removed]",
      "text/plain": [
       "<matplotlib.figure.Figure at 0xc7a8080>"
      ]
     },
     "metadata": {},
     "output_type": "display_data"
    }
   ],
   "source": [
    "%matplotlib inline\n",
    "import seaborn as sns\n",
    "sns.set(style=\"ticks\", color_codes=True)\n",
    "iris = sns.load_dataset(\"iris\")\n",
    "sns.pairplot(iris, hue=\"species\", markers=[\"o\", \"s\", \"D\"])"
   ]
  }
 ],
 "metadata": {
  "kernelspec": {
   "display_name": "Python [Root]",
   "language": "python",
   "name": "Python [Root]"
  },
  "language_info": {
   "codemirror_mode": {
    "name": "ipython",
    "version": 2
   },
   "file_extension": ".py",
   "mimetype": "text/x-python",
   "name": "python",
   "nbconvert_exporter": "python",
   "pygments_lexer": "ipython2",
   "version": "2.7.12"
  }
 },
 "nbformat": 4,
 "nbformat_minor": 2
}
