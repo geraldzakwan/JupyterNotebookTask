{
 "cells": [
  {
   "cell_type": "code",
   "execution_count": 9,
   "metadata": {
    "scrolled": false
   },
   "outputs": [
    {
     "name": "stdout",
     "output_type": "stream",
     "text": [
      "[[ 5.1  3.5  1.4  0.2]\n",
      " [ 4.9  3.   1.4  0.2]\n",
      " [ 4.7  3.2  1.3  0.2]\n",
      " [ 4.6  3.1  1.5  0.2]\n",
      " [ 5.   3.6  1.4  0.2]]\n",
      "[0 0 0 0 0]\n"
     ]
    }
   ],
   "source": [
    "# Melakukan import dataset standard iris dan memisahkan data dan target\n",
    "from sklearn import datasets\n",
    "iris_dataset = datasets.load_iris()\n",
    "X_iris = iris_dataset.data\n",
    "Y_iris = iris_dataset.target\n",
    "print(X_iris[0:5])\n",
    "print(Y_iris[0:5])"
   ]
  },
  {
   "cell_type": "code",
   "execution_count": 11,
   "metadata": {},
   "outputs": [
    {
     "name": "stdout",
     "output_type": "stream",
     "text": [
      "     outlook  temp humidity\n",
      "0      sunny   hot     high\n",
      "1      sunny   hot     high\n",
      "2   overcast   hot     high\n",
      "3      rainy  mild     high\n",
      "4      rainy  cool   normal\n",
      "5      rainy  cool   normal\n",
      "6   overcast  cool   normal\n",
      "7      sunny  mild     high\n",
      "8      sunny  cool   normal\n",
      "9      rainy  mild   normal\n",
      "10     sunny  mild   normal\n",
      "11  overcast  mild     high\n",
      "12  overcast   hot   normal\n",
      "13     rainy  mild     high\n",
      "[[ 0.  0.  1.  0.  1.  0.  1.  0.]\n",
      " [ 0.  0.  1.  0.  1.  0.  1.  0.]\n",
      " [ 1.  0.  0.  0.  1.  0.  1.  0.]\n",
      " [ 0.  1.  0.  0.  0.  1.  1.  0.]\n",
      " [ 0.  1.  0.  1.  0.  0.  0.  1.]]\n",
      "['no', 'no', 'yes', 'yes', 'yes']\n"
     ]
    }
   ],
   "source": [
    "# Melakukan import dataset csv play tennis dan memisahkan data dan target\n",
    "import pandas\n",
    "ori_data_frame = pandas.read_csv('tennis.csv')\n",
    "\n",
    "# axis = 1 artinya mau drop column\n",
    "data_frame = ori_data_frame.drop('play', axis=1)\n",
    "data_frame = data_frame.select_dtypes(include=[object])\n",
    "# print(data_frame.columns)\n",
    "\n",
    "from sklearn import preprocessing\n",
    "le = preprocessing.LabelEncoder()\n",
    "df_2 = data_frame.apply(le.fit_transform)\n",
    "# print(df_2)\n",
    "\n",
    "one_hot_encoder = preprocessing.OneHotEncoder()\n",
    "one_hot_encoder.fit(df_2)\n",
    "one_hot_labels = one_hot_encoder.transform(df_2).toarray()\n",
    "\n",
    "X_tennis = one_hot_labels\n",
    "Y_tennis = []\n",
    "\n",
    "for row in ori_data_frame.index:\n",
    "    Y_tennis.append(ori_data_frame['play'][row])\n",
    "\n",
    "print(X_tennis[0:5])\n",
    "print(Y_tennis[0:5])"
   ]
  },
  {
   "cell_type": "code",
   "execution_count": 3,
   "metadata": {},
   "outputs": [],
   "source": [
    "# Melakukan pembelajaran full training dengan DecisionTree\n",
    "from sklearn import tree\n",
    "clf_tree = tree.DecisionTreeClassifier()\n",
    "clf_tree = clf_tree.fit(X_iris, Y_iris)\n",
    "clf_tree_2 = tree.DecisionTreeClassifier()\n",
    "clf_tree_2 = clf_tree_2.fit(X_tennis, Y_tennis)\n",
    "# Menampilkan hasil prediksi terhadap 5 instance awal\n",
    "# print(clf_tree.predict(X_iris[:5]))\n",
    "# print(clf_tree_2.predict(X_tennis[:5]))"
   ]
  },
  {
   "cell_type": "code",
   "execution_count": 6,
   "metadata": {},
   "outputs": [
    {
     "data": {
      "text/plain": [
       "'tree_tennis.pdf'"
      ]
     },
     "execution_count": 6,
     "metadata": {},
     "output_type": "execute_result"
    }
   ],
   "source": [
    "# Menampilkan model pembelajaran tree\n",
    "dot_model = tree.export_graphviz(clf_tree, out_file = None) \n",
    "dot_model_2 = tree.export_graphviz(clf_tree_2, out_file = None) \n",
    "\n",
    "import graphviz\n",
    "import os\n",
    "os.environ[\"PATH\"] += os.pathsep + 'D:/Graphviz2.38/bin/'\n",
    "tree_viz = graphviz.Source(dot_model) \n",
    "tree_viz.render('tree_iris')\n",
    "tree_viz_2 = graphviz.Source(dot_model) \n",
    "tree_viz_2.render('tree_tennis')"
   ]
  },
  {
   "cell_type": "code",
   "execution_count": null,
   "metadata": {},
   "outputs": [],
   "source": [
    "# Melakukan pembelajaran full training dengan MLP\n",
    "from sklearn.neural_network import MLPClassifier\n",
    "clf_mlp = MLPClassifier(solver='lbfgs', alpha=1e-3, hidden_layer_sizes=(5, 5), random_state=1)\n",
    "clf_mlp.fit(X_iris, Y_iris)\n",
    "# Menampilkan hasil prediksi terhadap 5 instance awal\n",
    "# print(clf_mlp.predict(X_iris[:5]))"
   ]
  },
  {
   "cell_type": "code",
   "execution_count": null,
   "metadata": {},
   "outputs": [],
   "source": [
    "# Menampilkan model pembelajaran MLP"
   ]
  },
  {
   "cell_type": "code",
   "execution_count": null,
   "metadata": {},
   "outputs": [],
   "source": [
    "# Melakukan import dan export model\n",
    "from sklearn.externals import joblib\n",
    "def save_model(model, filename):\n",
    "    joblib.dump(model, filename)\n",
    "    \n",
    "def load_model(filename):\n",
    "    clf = joblib.load(filename)\n",
    "    return clf"
   ]
  },
  {
   "cell_type": "code",
   "execution_count": null,
   "metadata": {},
   "outputs": [],
   "source": [
    "# Meng-export full training MLP dan DTree\n",
    "save_model(clf_tree, \"full_training_Tree_Iris.model\")\n",
    "save_model(clf_mlp, \"full_training_MLP_Iris.model\")\n",
    "\n",
    "# Me-load full training MLP dan DTree\n",
    "clf_mlp = load_model(\"full_training_MLP_Iris.model\")\n",
    "clf_tree = load_model(\"full_training_Tree_Iris.model\")\n",
    "print(clf_mlp.predict(X_iris[:5]))\n",
    "print(clf_tree.predict(X_iris[:5]))"
   ]
  }
 ],
 "metadata": {
  "kernelspec": {
   "display_name": "Python 3",
   "language": "python",
   "name": "python3"
  },
  "language_info": {
   "codemirror_mode": {
    "name": "ipython",
    "version": 3
   },
   "file_extension": ".py",
   "mimetype": "text/x-python",
   "name": "python",
   "nbconvert_exporter": "python",
   "pygments_lexer": "ipython3",
   "version": "3.5.1"
  }
 },
 "nbformat": 4,
 "nbformat_minor": 2
}
